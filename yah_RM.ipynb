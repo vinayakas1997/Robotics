{
 "cells": [
  {
   "cell_type": "code",
   "execution_count": 2,
   "metadata": {},
   "outputs": [],
   "source": [
    "import numpy as np\n",
    "T1=0\n",
    "T2=0 \n",
    "T3=0 \n",
    "T4=0 \n",
    "T5=0 \n"
   ]
  },
  {
   "cell_type": "code",
   "execution_count": 3,
   "metadata": {},
   "outputs": [],
   "source": [
    "T1 = (T1/180.0)*np.pi\n",
    "T2 = (T2/180.0)*np.pi\n",
    "T3 = (T3/180.0)*np.pi\n",
    "T4 = (T4/180.0)*np.pi\n",
    "T5 = (T5/180.0)*np.pi"
   ]
  },
  {
   "cell_type": "code",
   "execution_count": 4,
   "metadata": {},
   "outputs": [],
   "source": [
    "R0_1 = [[np.cos(T1),0,np.sin(T1)],\n",
    "        [np.sin(T1),0,-np.cos(T1)],\n",
    "        [0,1,0]]\n",
    "\n",
    "R1_2 = [[np.cos(T2),-np.sin(T2),0],\n",
    "        [np.sin(T2),np.cos(T2),0],\n",
    "        [0,0,1]]\n",
    "\n",
    "R2_3 = [[np.cos(T3),-np.sin(T3),0],\n",
    "        [np.sin(T3),np.cos(T3),0],\n",
    "        [0,0,1]]\n",
    "\n",
    "R3_4 = [[-np.sin(T4),0,np.cos(T4)],\n",
    "        [np.cos(T4),0,np.sin(T4)],\n",
    "        [0,1,0]]\n",
    "\n",
    "R4_5 = [[np.cos(T5),-np.sin(T5),0],\n",
    "        [np.sin(T5),np.cos(T5),0],\n",
    "        [0,0,1]]"
   ]
  },
  {
   "cell_type": "code",
   "execution_count": 5,
   "metadata": {},
   "outputs": [],
   "source": [
    "R0_2 = np.dot(R0_1,R1_2)\n",
    "R2_4 = np.dot(R2_3,R3_4)\n",
    "R4_5 = R4_5"
   ]
  },
  {
   "cell_type": "code",
   "execution_count": 6,
   "metadata": {},
   "outputs": [],
   "source": [
    "R0_4 = np.dot(R0_2,R2_4)\n",
    "R0_5 = np.dot(R0_4,R4_5)"
   ]
  },
  {
   "cell_type": "code",
   "execution_count": 7,
   "metadata": {},
   "outputs": [
    {
     "name": "stdout",
     "output_type": "stream",
     "text": [
      "\n",
      "R0_1-->\n",
      "[[ 1.  0.  0.]\n",
      " [ 0.  0. -1.]\n",
      " [ 0.  1.  0.]]\n",
      "\n",
      "R1_2-->\n",
      "[[ 1. -0.  0.]\n",
      " [ 0.  1.  0.]\n",
      " [ 0.  0.  1.]]\n",
      "\n",
      "R2_3-->\n",
      "[[ 1. -0.  0.]\n",
      " [ 0.  1.  0.]\n",
      " [ 0.  0.  1.]]\n",
      "\n",
      "R3_4-->\n",
      "[[-0.  0.  1.]\n",
      " [ 1.  0.  0.]\n",
      " [ 0.  1.  0.]]\n",
      "\n",
      "R4_5-->\n",
      "[[ 1. -0.  0.]\n",
      " [ 0.  1.  0.]\n",
      " [ 0.  0.  1.]]\n"
     ]
    }
   ],
   "source": [
    "print(\"\\nR0_1-->\")\n",
    "print(np.matrix(R0_1))\n",
    "\n",
    "print(\"\\nR1_2-->\")\n",
    "print(np.matrix(R1_2))\n",
    "\n",
    "print(\"\\nR2_3-->\")\n",
    "print(np.matrix(R2_3))\n",
    "\n",
    "print(\"\\nR3_4-->\")\n",
    "print(np.matrix(R3_4))\n",
    "\n",
    "print(\"\\nR4_5-->\")\n",
    "print(np.matrix(R4_5))"
   ]
  },
  {
   "cell_type": "code",
   "execution_count": 8,
   "metadata": {},
   "outputs": [
    {
     "name": "stdout",
     "output_type": "stream",
     "text": [
      "\n",
      "R0_5-->\n",
      "[[ 0.  0.  1.]\n",
      " [ 0. -1.  0.]\n",
      " [ 1.  0.  0.]]\n"
     ]
    }
   ],
   "source": [
    "print(\"\\nR0_5-->\")\n",
    "print(np.matrix(R0_5))"
   ]
  },
  {
   "cell_type": "markdown",
   "metadata": {},
   "source": [
    "## From here the displacement is taking place "
   ]
  },
  {
   "cell_type": "code",
   "execution_count": 9,
   "metadata": {},
   "outputs": [],
   "source": [
    "a1 = 170.5\n",
    "a2 = 83\n",
    "a3 = 83\n",
    "a4 = 72.5\n",
    "a5 = 116"
   ]
  },
  {
   "cell_type": "code",
   "execution_count": 10,
   "metadata": {},
   "outputs": [],
   "source": [
    "d0_1=[[0],[0],[170.5]]\n",
    "d1_2= [[a2*np.cos(T2)],[a2*np.sin(T2)],[0]]\n",
    "d2_3=[[a3*np.cos(T3)],[a3*np.sin(T3)],[0]]\n",
    "d3_4 = [[0],[0],[0]]\n",
    "d4_5 = [[0],[0],[a4+a5]]"
   ]
  },
  {
   "cell_type": "code",
   "execution_count": 11,
   "metadata": {},
   "outputs": [],
   "source": [
    "H0_1 = np.concatenate((R0_1,d0_1),1)\n",
    "H0_1 = np.concatenate((H0_1,[[0,0,0,1]]),0)\n",
    "\n",
    "H1_2 = np.concatenate((R1_2,d1_2),1)\n",
    "H1_2 = np.concatenate((H1_2,[[0,0,0,1]]),0)\n",
    "\n",
    "H2_3 = np.concatenate((R2_3,d2_3),1)\n",
    "H2_3 = np.concatenate((H2_3,[[0,0,0,1]]),0)\n",
    "\n",
    "H3_4 = np.concatenate((R3_4,d3_4),1)\n",
    "H3_4 = np.concatenate((H3_4,[[0,0,0,1]]),0)\n",
    "\n",
    "H4_5 = np.concatenate((R4_5,d4_5),1)\n",
    "H4_5 = np.concatenate((H4_5,[[0,0,0,1]]),0)"
   ]
  },
  {
   "cell_type": "code",
   "execution_count": 12,
   "metadata": {},
   "outputs": [],
   "source": [
    "H0_2 = np.dot(H0_1,H1_2)\n",
    "H2_4 = np.dot(H2_3,H3_4)\n",
    "H4_5 = H4_5"
   ]
  },
  {
   "cell_type": "code",
   "execution_count": 13,
   "metadata": {},
   "outputs": [],
   "source": [
    "H0_4 = np.dot(H0_2,H2_4)\n",
    "H0_5 = np.dot(H0_4,H4_5)"
   ]
  },
  {
   "cell_type": "code",
   "execution_count": 14,
   "metadata": {},
   "outputs": [
    {
     "name": "stdout",
     "output_type": "stream",
     "text": [
      "[[  0.    0.    1.  354.5]\n",
      " [  0.   -1.    0.    0. ]\n",
      " [  1.    0.    0.  170.5]\n",
      " [  0.    0.    0.    1. ]]\n"
     ]
    }
   ],
   "source": [
    "print(np.matrix(H0_5))"
   ]
  },
  {
   "cell_type": "code",
   "execution_count": 15,
   "metadata": {},
   "outputs": [],
   "source": [
    "import numpy as np\n",
    "from numpy import cos, sin\n",
    "\n",
    "import matplotlib.pyplot as plt\n",
    "from mpl_toolkits.mplot3d import Axes3D\n",
    "\n",
    "import sympy as sp\n",
    "from sympy import pi\n"
   ]
  },
  {
   "cell_type": "code",
   "execution_count": 16,
   "metadata": {},
   "outputs": [
    {
     "data": {
      "text/plain": [
       "[[q1, pi/2, 0, 170.5],\n",
       " [q2, 0, 83, 0],\n",
       " [q3, 0, 83, 0],\n",
       " [q4 + pi/2, pi/2, 0, 0],\n",
       " [q5, 0, 0, 188.5]]"
      ]
     },
     "execution_count": 16,
     "metadata": {},
     "output_type": "execute_result"
    }
   ],
   "source": [
    "DOF = 5\n",
    "q1, q2, q3, q4, q5 = sp.symbols('q1 q2 q3 q4 q5')\n",
    "\n",
    "# Value of pi from the symbolic library for convenience\n",
    "spi = sp.pi\n",
    "DH_params = []\n",
    "\n",
    "DH_params.append([q1,pi/2,0,170.5])\n",
    "DH_params.append([q2,0,83,0])\n",
    "DH_params.append([q3, 0, 83, 0])\n",
    "DH_params.append([q4+(pi/2),pi/2, 0, 0])\n",
    "DH_params.append([q5, 0, 0, 188.5])\n",
    "\n",
    "DH_params"
   ]
  },
  {
   "cell_type": "code",
   "execution_count": 17,
   "metadata": {},
   "outputs": [
    {
     "data": {
      "text/plain": [
       "[q1, pi/2, 0, 170.5]"
      ]
     },
     "execution_count": 17,
     "metadata": {},
     "output_type": "execute_result"
    }
   ],
   "source": [
    "DH_params[0]"
   ]
  },
  {
   "cell_type": "code",
   "execution_count": 18,
   "metadata": {},
   "outputs": [],
   "source": [
    "def DH_trans_matrix(params):\n",
    "    \n",
    "    theta, alpha, a, d = (params[0], params[1], params[2], params[3])\n",
    "    \n",
    "    mat = sp.Matrix([[sp.cos(theta), -1*sp.sin(theta)*sp.cos(alpha), sp.sin(theta)*sp.sin(alpha),    a*sp.cos(theta)],\n",
    "                    [sp.sin(theta), sp.cos(theta)*sp.cos(alpha),    -1*sp.cos(theta)*sp.sin(alpha), a*sp.sin(theta)],\n",
    "                    [0,             sp.sin(alpha),                  sp.cos(alpha),                  d],\n",
    "                    [0,             0,                              0,                              1]])\n",
    "    \n",
    "    return mat"
   ]
  },
  {
   "cell_type": "code",
   "execution_count": 19,
   "metadata": {},
   "outputs": [
    {
     "data": {
      "text/plain": [
       "(Matrix([\n",
       " [1, 0,  0,     0],\n",
       " [0, 0, -1,     0],\n",
       " [0, 1,  0, 170.5],\n",
       " [0, 0,  0,     1]]),\n",
       " array([[  1. ,   0. ,   0. ,   0. ],\n",
       "        [  0. ,   0. ,  -1. ,   0. ],\n",
       "        [  0. ,   1. ,   0. , 170.5],\n",
       "        [  0. ,   0. ,   0. ,   1. ]]))"
      ]
     },
     "execution_count": 19,
     "metadata": {},
     "output_type": "execute_result"
    }
   ],
   "source": [
    "H0_1_exp = DH_trans_matrix(DH_params[0])\n",
    "H0_1_exp = H0_1_exp.subs(q1,0)\n",
    "H0_1_exp, H0_1"
   ]
  },
  {
   "cell_type": "code",
   "execution_count": 20,
   "metadata": {},
   "outputs": [
    {
     "data": {
      "text/latex": [
       "$\\displaystyle \\left[\\begin{matrix}\\cos{\\left(q_{2} \\right)} & - \\sin{\\left(q_{2} \\right)} & 0 & 83 \\cos{\\left(q_{2} \\right)}\\\\\\sin{\\left(q_{2} \\right)} & \\cos{\\left(q_{2} \\right)} & 0 & 83 \\sin{\\left(q_{2} \\right)}\\\\0 & 0 & 1 & 0\\\\0 & 0 & 0 & 1\\end{matrix}\\right]$"
      ],
      "text/plain": [
       "Matrix([\n",
       "[cos(q2), -sin(q2), 0, 83*cos(q2)],\n",
       "[sin(q2),  cos(q2), 0, 83*sin(q2)],\n",
       "[      0,        0, 1,          0],\n",
       "[      0,        0, 0,          1]])"
      ]
     },
     "execution_count": 20,
     "metadata": {},
     "output_type": "execute_result"
    }
   ],
   "source": [
    "H1_2_exp = DH_trans_matrix(DH_params[1])\n",
    "# H1_2_exp = H1_2_exp.subs(q2,0)\n",
    "H1_2_exp"
   ]
  },
  {
   "cell_type": "code",
   "execution_count": 21,
   "metadata": {},
   "outputs": [
    {
     "data": {
      "text/latex": [
       "$\\displaystyle \\left[\\begin{matrix}\\cos{\\left(q_{3} \\right)} & - \\sin{\\left(q_{3} \\right)} & 0 & 83 \\cos{\\left(q_{3} \\right)}\\\\\\sin{\\left(q_{3} \\right)} & \\cos{\\left(q_{3} \\right)} & 0 & 83 \\sin{\\left(q_{3} \\right)}\\\\0 & 0 & 1 & 0\\\\0 & 0 & 0 & 1\\end{matrix}\\right]$"
      ],
      "text/plain": [
       "Matrix([\n",
       "[cos(q3), -sin(q3), 0, 83*cos(q3)],\n",
       "[sin(q3),  cos(q3), 0, 83*sin(q3)],\n",
       "[      0,        0, 1,          0],\n",
       "[      0,        0, 0,          1]])"
      ]
     },
     "execution_count": 21,
     "metadata": {},
     "output_type": "execute_result"
    }
   ],
   "source": [
    "H2_3_exp = DH_trans_matrix(DH_params[2])\n",
    "# H1_2_exp = H1_2_exp.subs(q2,0)\n",
    "H2_3_exp"
   ]
  },
  {
   "cell_type": "code",
   "execution_count": 22,
   "metadata": {},
   "outputs": [
    {
     "data": {
      "text/latex": [
       "$\\displaystyle \\left[\\begin{matrix}- \\sin{\\left(q_{4} \\right)} & 0 & \\cos{\\left(q_{4} \\right)} & 0\\\\\\cos{\\left(q_{4} \\right)} & 0 & \\sin{\\left(q_{4} \\right)} & 0\\\\0 & 1 & 0 & 0\\\\0 & 0 & 0 & 1\\end{matrix}\\right]$"
      ],
      "text/plain": [
       "Matrix([\n",
       "[-sin(q4), 0, cos(q4), 0],\n",
       "[ cos(q4), 0, sin(q4), 0],\n",
       "[       0, 1,       0, 0],\n",
       "[       0, 0,       0, 1]])"
      ]
     },
     "execution_count": 22,
     "metadata": {},
     "output_type": "execute_result"
    }
   ],
   "source": [
    "H3_4_exp = DH_trans_matrix(DH_params[3])\n",
    "# H1_2_exp = H1_2_exp.subs(q2,0)\n",
    "H3_4_exp"
   ]
  },
  {
   "cell_type": "code",
   "execution_count": 23,
   "metadata": {},
   "outputs": [
    {
     "data": {
      "text/latex": [
       "$\\displaystyle \\left[\\begin{matrix}\\cos{\\left(q_{5} \\right)} & - \\sin{\\left(q_{5} \\right)} & 0 & 0\\\\\\sin{\\left(q_{5} \\right)} & \\cos{\\left(q_{5} \\right)} & 0 & 0\\\\0 & 0 & 1 & 188.5\\\\0 & 0 & 0 & 1\\end{matrix}\\right]$"
      ],
      "text/plain": [
       "Matrix([\n",
       "[cos(q5), -sin(q5), 0,     0],\n",
       "[sin(q5),  cos(q5), 0,     0],\n",
       "[      0,        0, 1, 188.5],\n",
       "[      0,        0, 0,     1]])"
      ]
     },
     "execution_count": 23,
     "metadata": {},
     "output_type": "execute_result"
    }
   ],
   "source": [
    "H4_5_exp = DH_trans_matrix(DH_params[4])\n",
    "# H1_2_exp = H1_2_exp.subs(q2,0)\n",
    "H4_5_exp"
   ]
  },
  {
   "cell_type": "code",
   "execution_count": 24,
   "metadata": {},
   "outputs": [],
   "source": [
    "H0_5_exp = H0_1_exp * H1_2_exp * H2_3_exp * H3_4_exp * H4_5_exp"
   ]
  },
  {
   "cell_type": "code",
   "execution_count": 25,
   "metadata": {},
   "outputs": [
    {
     "data": {
      "text/latex": [
       "$\\displaystyle \\left[\\begin{matrix}\\left(- \\left(- \\sin{\\left(q_{2} \\right)} \\sin{\\left(q_{3} \\right)} + \\cos{\\left(q_{2} \\right)} \\cos{\\left(q_{3} \\right)}\\right) \\sin{\\left(q_{4} \\right)} + \\left(- \\sin{\\left(q_{2} \\right)} \\cos{\\left(q_{3} \\right)} - \\sin{\\left(q_{3} \\right)} \\cos{\\left(q_{2} \\right)}\\right) \\cos{\\left(q_{4} \\right)}\\right) \\cos{\\left(q_{5} \\right)} & - \\left(- \\left(- \\sin{\\left(q_{2} \\right)} \\sin{\\left(q_{3} \\right)} + \\cos{\\left(q_{2} \\right)} \\cos{\\left(q_{3} \\right)}\\right) \\sin{\\left(q_{4} \\right)} + \\left(- \\sin{\\left(q_{2} \\right)} \\cos{\\left(q_{3} \\right)} - \\sin{\\left(q_{3} \\right)} \\cos{\\left(q_{2} \\right)}\\right) \\cos{\\left(q_{4} \\right)}\\right) \\sin{\\left(q_{5} \\right)} & \\left(- \\sin{\\left(q_{2} \\right)} \\sin{\\left(q_{3} \\right)} + \\cos{\\left(q_{2} \\right)} \\cos{\\left(q_{3} \\right)}\\right) \\cos{\\left(q_{4} \\right)} + \\left(- \\sin{\\left(q_{2} \\right)} \\cos{\\left(q_{3} \\right)} - \\sin{\\left(q_{3} \\right)} \\cos{\\left(q_{2} \\right)}\\right) \\sin{\\left(q_{4} \\right)} & 188.5 \\left(- \\sin{\\left(q_{2} \\right)} \\sin{\\left(q_{3} \\right)} + \\cos{\\left(q_{2} \\right)} \\cos{\\left(q_{3} \\right)}\\right) \\cos{\\left(q_{4} \\right)} + 188.5 \\left(- \\sin{\\left(q_{2} \\right)} \\cos{\\left(q_{3} \\right)} - \\sin{\\left(q_{3} \\right)} \\cos{\\left(q_{2} \\right)}\\right) \\sin{\\left(q_{4} \\right)} - 83 \\sin{\\left(q_{2} \\right)} \\sin{\\left(q_{3} \\right)} + 83 \\cos{\\left(q_{2} \\right)} \\cos{\\left(q_{3} \\right)} + 83 \\cos{\\left(q_{2} \\right)}\\\\- \\sin{\\left(q_{5} \\right)} & - \\cos{\\left(q_{5} \\right)} & 0 & 0\\\\\\left(\\left(- \\sin{\\left(q_{2} \\right)} \\sin{\\left(q_{3} \\right)} + \\cos{\\left(q_{2} \\right)} \\cos{\\left(q_{3} \\right)}\\right) \\cos{\\left(q_{4} \\right)} - \\left(\\sin{\\left(q_{2} \\right)} \\cos{\\left(q_{3} \\right)} + \\sin{\\left(q_{3} \\right)} \\cos{\\left(q_{2} \\right)}\\right) \\sin{\\left(q_{4} \\right)}\\right) \\cos{\\left(q_{5} \\right)} & - \\left(\\left(- \\sin{\\left(q_{2} \\right)} \\sin{\\left(q_{3} \\right)} + \\cos{\\left(q_{2} \\right)} \\cos{\\left(q_{3} \\right)}\\right) \\cos{\\left(q_{4} \\right)} - \\left(\\sin{\\left(q_{2} \\right)} \\cos{\\left(q_{3} \\right)} + \\sin{\\left(q_{3} \\right)} \\cos{\\left(q_{2} \\right)}\\right) \\sin{\\left(q_{4} \\right)}\\right) \\sin{\\left(q_{5} \\right)} & \\left(- \\sin{\\left(q_{2} \\right)} \\sin{\\left(q_{3} \\right)} + \\cos{\\left(q_{2} \\right)} \\cos{\\left(q_{3} \\right)}\\right) \\sin{\\left(q_{4} \\right)} + \\left(\\sin{\\left(q_{2} \\right)} \\cos{\\left(q_{3} \\right)} + \\sin{\\left(q_{3} \\right)} \\cos{\\left(q_{2} \\right)}\\right) \\cos{\\left(q_{4} \\right)} & 188.5 \\left(- \\sin{\\left(q_{2} \\right)} \\sin{\\left(q_{3} \\right)} + \\cos{\\left(q_{2} \\right)} \\cos{\\left(q_{3} \\right)}\\right) \\sin{\\left(q_{4} \\right)} + 188.5 \\left(\\sin{\\left(q_{2} \\right)} \\cos{\\left(q_{3} \\right)} + \\sin{\\left(q_{3} \\right)} \\cos{\\left(q_{2} \\right)}\\right) \\cos{\\left(q_{4} \\right)} + 83 \\sin{\\left(q_{2} \\right)} \\cos{\\left(q_{3} \\right)} + 83 \\sin{\\left(q_{2} \\right)} + 83 \\sin{\\left(q_{3} \\right)} \\cos{\\left(q_{2} \\right)} + 170.5\\\\0 & 0 & 0 & 1\\end{matrix}\\right]$"
      ],
      "text/plain": [
       "Matrix([\n",
       "[(-(-sin(q2)*sin(q3) + cos(q2)*cos(q3))*sin(q4) + (-sin(q2)*cos(q3) - sin(q3)*cos(q2))*cos(q4))*cos(q5), -(-(-sin(q2)*sin(q3) + cos(q2)*cos(q3))*sin(q4) + (-sin(q2)*cos(q3) - sin(q3)*cos(q2))*cos(q4))*sin(q5), (-sin(q2)*sin(q3) + cos(q2)*cos(q3))*cos(q4) + (-sin(q2)*cos(q3) - sin(q3)*cos(q2))*sin(q4),        188.5*(-sin(q2)*sin(q3) + cos(q2)*cos(q3))*cos(q4) + 188.5*(-sin(q2)*cos(q3) - sin(q3)*cos(q2))*sin(q4) - 83*sin(q2)*sin(q3) + 83*cos(q2)*cos(q3) + 83*cos(q2)],\n",
       "[                                                                                              -sin(q5),                                                                                                -cos(q5),                                                                                           0,                                                                                                                                                                     0],\n",
       "[  ((-sin(q2)*sin(q3) + cos(q2)*cos(q3))*cos(q4) - (sin(q2)*cos(q3) + sin(q3)*cos(q2))*sin(q4))*cos(q5),   -((-sin(q2)*sin(q3) + cos(q2)*cos(q3))*cos(q4) - (sin(q2)*cos(q3) + sin(q3)*cos(q2))*sin(q4))*sin(q5),  (-sin(q2)*sin(q3) + cos(q2)*cos(q3))*sin(q4) + (sin(q2)*cos(q3) + sin(q3)*cos(q2))*cos(q4), 188.5*(-sin(q2)*sin(q3) + cos(q2)*cos(q3))*sin(q4) + 188.5*(sin(q2)*cos(q3) + sin(q3)*cos(q2))*cos(q4) + 83*sin(q2)*cos(q3) + 83*sin(q2) + 83*sin(q3)*cos(q2) + 170.5],\n",
       "[                                                                                                     0,                                                                                                       0,                                                                                           0,                                                                                                                                                                     1]])"
      ]
     },
     "execution_count": 25,
     "metadata": {},
     "output_type": "execute_result"
    }
   ],
   "source": [
    "H0_5_exp"
   ]
  },
  {
   "cell_type": "code",
   "execution_count": 26,
   "metadata": {},
   "outputs": [],
   "source": [
    "H0_5_exp = H0_5_exp.subs(q1, 0)\n",
    "H0_5_exp = H0_5_exp.subs(q2, 0)\n",
    "H0_5_exp = H0_5_exp.subs(q3, 0)\n",
    "H0_5_exp = H0_5_exp.subs(q4, 0)\n",
    "H0_5_exp = H0_5_exp.subs(q5, 0)"
   ]
  },
  {
   "cell_type": "code",
   "execution_count": 27,
   "metadata": {},
   "outputs": [
    {
     "data": {
      "text/plain": [
       "sympy.matrices.dense.MutableDenseMatrix"
      ]
     },
     "execution_count": 27,
     "metadata": {},
     "output_type": "execute_result"
    }
   ],
   "source": [
    "type(H0_5_exp)"
   ]
  },
  {
   "cell_type": "code",
   "execution_count": 28,
   "metadata": {},
   "outputs": [
    {
     "name": "stdout",
     "output_type": "stream",
     "text": [
      "⎡cos(q₂)  -sin(q₂)  0       83⋅cos(q₂)    ⎤\n",
      "⎢                                         ⎥\n",
      "⎢   0        0      -1          0         ⎥\n",
      "⎢                                         ⎥\n",
      "⎢sin(q₂)  cos(q₂)   0   83⋅sin(q₂) + 170.5⎥\n",
      "⎢                                         ⎥\n",
      "⎣   0        0      0           1         ⎦\n"
     ]
    }
   ],
   "source": [
    "H0_2_exp = H0_1_exp * H1_2_exp\n",
    "sp.pprint(H0_2_exp)\n",
    "# H2_4 = np.dot(H2_3,H3_4)\n",
    "# H4_5 = H4_5"
   ]
  },
  {
   "cell_type": "code",
   "execution_count": 29,
   "metadata": {},
   "outputs": [],
   "source": [
    "_H0_1 = DH_trans_matrix(DH_params[0])\n",
    "_H1_2 = DH_trans_matrix(DH_params[1])\n",
    "_H2_3 = DH_trans_matrix(DH_params[2])\n",
    "_H3_4 = DH_trans_matrix(DH_params[3])\n",
    "_H4_5 = DH_trans_matrix(DH_params[4])\n",
    "\n",
    "# H0_5 = H0_1 * H1_2 * H2_3 * H3_4 * H4_5\n"
   ]
  },
  {
   "cell_type": "code",
   "execution_count": 30,
   "metadata": {},
   "outputs": [
    {
     "data": {
      "text/latex": [
       "$\\displaystyle \\left[\\begin{matrix}\\cos{\\left(q_{1} \\right)} \\cos{\\left(q_{2} \\right)} & - \\sin{\\left(q_{2} \\right)} \\cos{\\left(q_{1} \\right)} & \\sin{\\left(q_{1} \\right)} & 83 \\cos{\\left(q_{1} \\right)} \\cos{\\left(q_{2} \\right)}\\\\\\sin{\\left(q_{1} \\right)} \\cos{\\left(q_{2} \\right)} & - \\sin{\\left(q_{1} \\right)} \\sin{\\left(q_{2} \\right)} & - \\cos{\\left(q_{1} \\right)} & 83 \\sin{\\left(q_{1} \\right)} \\cos{\\left(q_{2} \\right)}\\\\\\sin{\\left(q_{2} \\right)} & \\cos{\\left(q_{2} \\right)} & 0 & 83 \\sin{\\left(q_{2} \\right)} + 170.5\\\\0 & 0 & 0 & 1\\end{matrix}\\right]$"
      ],
      "text/plain": [
       "Matrix([\n",
       "[cos(q1)*cos(q2), -sin(q2)*cos(q1),  sin(q1), 83*cos(q1)*cos(q2)],\n",
       "[sin(q1)*cos(q2), -sin(q1)*sin(q2), -cos(q1), 83*sin(q1)*cos(q2)],\n",
       "[        sin(q2),          cos(q2),        0, 83*sin(q2) + 170.5],\n",
       "[              0,                0,        0,                  1]])"
      ]
     },
     "execution_count": 30,
     "metadata": {},
     "output_type": "execute_result"
    }
   ],
   "source": [
    "_H0_2 = _H0_1 * _H1_2\n",
    "_H0_2"
   ]
  },
  {
   "cell_type": "code",
   "execution_count": 31,
   "metadata": {},
   "outputs": [
    {
     "data": {
      "text/latex": [
       "$\\displaystyle \\left[\\begin{matrix}1 & 0 & 0 & 83\\\\0 & 0 & -1 & 0\\\\0 & 1 & 0 & 170.5\\\\0 & 0 & 0 & 1\\end{matrix}\\right]$"
      ],
      "text/plain": [
       "Matrix([\n",
       "[1, 0,  0,    83],\n",
       "[0, 0, -1,     0],\n",
       "[0, 1,  0, 170.5],\n",
       "[0, 0,  0,     1]])"
      ]
     },
     "execution_count": 31,
     "metadata": {},
     "output_type": "execute_result"
    }
   ],
   "source": [
    "_H0_2_subs=_H0_2.subs(q1,0)\n",
    "_H0_2_subs=_H0_2_subs.subs(q2,0)\n",
    "_H0_2_subs"
   ]
  },
  {
   "cell_type": "code",
   "execution_count": 32,
   "metadata": {},
   "outputs": [
    {
     "data": {
      "text/plain": [
       "array([[  1. ,   0. ,   0. ,  83. ],\n",
       "       [  0. ,   0. ,  -1. ,   0. ],\n",
       "       [  0. ,   1. ,   0. , 170.5],\n",
       "       [  0. ,   0. ,   0. ,   1. ]])"
      ]
     },
     "execution_count": 32,
     "metadata": {},
     "output_type": "execute_result"
    }
   ],
   "source": [
    "H0_2"
   ]
  },
  {
   "cell_type": "code",
   "execution_count": 33,
   "metadata": {},
   "outputs": [
    {
     "data": {
      "text/latex": [
       "$\\displaystyle \\left[\\begin{matrix}- \\sin{\\left(q_{3} \\right)} \\cos{\\left(q_{4} \\right)} - \\sin{\\left(q_{4} \\right)} \\cos{\\left(q_{3} \\right)} & 0 & - \\sin{\\left(q_{3} \\right)} \\sin{\\left(q_{4} \\right)} + \\cos{\\left(q_{3} \\right)} \\cos{\\left(q_{4} \\right)} & 83 \\cos{\\left(q_{3} \\right)}\\\\- \\sin{\\left(q_{3} \\right)} \\sin{\\left(q_{4} \\right)} + \\cos{\\left(q_{3} \\right)} \\cos{\\left(q_{4} \\right)} & 0 & \\sin{\\left(q_{3} \\right)} \\cos{\\left(q_{4} \\right)} + \\sin{\\left(q_{4} \\right)} \\cos{\\left(q_{3} \\right)} & 83 \\sin{\\left(q_{3} \\right)}\\\\0 & 1 & 0 & 0\\\\0 & 0 & 0 & 1\\end{matrix}\\right]$"
      ],
      "text/plain": [
       "Matrix([\n",
       "[-sin(q3)*cos(q4) - sin(q4)*cos(q3), 0, -sin(q3)*sin(q4) + cos(q3)*cos(q4), 83*cos(q3)],\n",
       "[-sin(q3)*sin(q4) + cos(q3)*cos(q4), 0,  sin(q3)*cos(q4) + sin(q4)*cos(q3), 83*sin(q3)],\n",
       "[                                 0, 1,                                  0,          0],\n",
       "[                                 0, 0,                                  0,          1]])"
      ]
     },
     "execution_count": 33,
     "metadata": {},
     "output_type": "execute_result"
    }
   ],
   "source": [
    "\n",
    "_H2_4 = _H2_3 * _H3_4\n",
    "_H2_4"
   ]
  },
  {
   "cell_type": "code",
   "execution_count": 34,
   "metadata": {},
   "outputs": [
    {
     "data": {
      "text/latex": [
       "$\\displaystyle \\left[\\begin{matrix}0 & 0 & 1 & 83\\\\1 & 0 & 0 & 0\\\\0 & 1 & 0 & 0\\\\0 & 0 & 0 & 1\\end{matrix}\\right]$"
      ],
      "text/plain": [
       "Matrix([\n",
       "[0, 0, 1, 83],\n",
       "[1, 0, 0,  0],\n",
       "[0, 1, 0,  0],\n",
       "[0, 0, 0,  1]])"
      ]
     },
     "execution_count": 34,
     "metadata": {},
     "output_type": "execute_result"
    }
   ],
   "source": [
    "_H2_4_subs=_H2_4.subs(q3,0)\n",
    "_H2_4_subs=_H2_4_subs.subs(q4,0)\n",
    "_H2_4_subs"
   ]
  },
  {
   "cell_type": "code",
   "execution_count": 35,
   "metadata": {},
   "outputs": [
    {
     "data": {
      "text/plain": [
       "array([[ 0.,  0.,  1., 83.],\n",
       "       [ 1.,  0.,  0.,  0.],\n",
       "       [ 0.,  1.,  0.,  0.],\n",
       "       [ 0.,  0.,  0.,  1.]])"
      ]
     },
     "execution_count": 35,
     "metadata": {},
     "output_type": "execute_result"
    }
   ],
   "source": [
    "H2_4"
   ]
  },
  {
   "cell_type": "code",
   "execution_count": 36,
   "metadata": {},
   "outputs": [
    {
     "data": {
      "text/latex": [
       "$\\displaystyle \\left[\\begin{matrix}\\left(- \\left(- \\sin{\\left(q_{2} \\right)} \\sin{\\left(q_{3} \\right)} \\cos{\\left(q_{1} \\right)} + \\cos{\\left(q_{1} \\right)} \\cos{\\left(q_{2} \\right)} \\cos{\\left(q_{3} \\right)}\\right) \\sin{\\left(q_{4} \\right)} + \\left(- \\sin{\\left(q_{2} \\right)} \\cos{\\left(q_{1} \\right)} \\cos{\\left(q_{3} \\right)} - \\sin{\\left(q_{3} \\right)} \\cos{\\left(q_{1} \\right)} \\cos{\\left(q_{2} \\right)}\\right) \\cos{\\left(q_{4} \\right)}\\right) \\cos{\\left(q_{5} \\right)} + \\sin{\\left(q_{1} \\right)} \\sin{\\left(q_{5} \\right)} & - \\left(- \\left(- \\sin{\\left(q_{2} \\right)} \\sin{\\left(q_{3} \\right)} \\cos{\\left(q_{1} \\right)} + \\cos{\\left(q_{1} \\right)} \\cos{\\left(q_{2} \\right)} \\cos{\\left(q_{3} \\right)}\\right) \\sin{\\left(q_{4} \\right)} + \\left(- \\sin{\\left(q_{2} \\right)} \\cos{\\left(q_{1} \\right)} \\cos{\\left(q_{3} \\right)} - \\sin{\\left(q_{3} \\right)} \\cos{\\left(q_{1} \\right)} \\cos{\\left(q_{2} \\right)}\\right) \\cos{\\left(q_{4} \\right)}\\right) \\sin{\\left(q_{5} \\right)} + \\sin{\\left(q_{1} \\right)} \\cos{\\left(q_{5} \\right)} & \\left(- \\sin{\\left(q_{2} \\right)} \\sin{\\left(q_{3} \\right)} \\cos{\\left(q_{1} \\right)} + \\cos{\\left(q_{1} \\right)} \\cos{\\left(q_{2} \\right)} \\cos{\\left(q_{3} \\right)}\\right) \\cos{\\left(q_{4} \\right)} + \\left(- \\sin{\\left(q_{2} \\right)} \\cos{\\left(q_{1} \\right)} \\cos{\\left(q_{3} \\right)} - \\sin{\\left(q_{3} \\right)} \\cos{\\left(q_{1} \\right)} \\cos{\\left(q_{2} \\right)}\\right) \\sin{\\left(q_{4} \\right)} & 188.5 \\left(- \\sin{\\left(q_{2} \\right)} \\sin{\\left(q_{3} \\right)} \\cos{\\left(q_{1} \\right)} + \\cos{\\left(q_{1} \\right)} \\cos{\\left(q_{2} \\right)} \\cos{\\left(q_{3} \\right)}\\right) \\cos{\\left(q_{4} \\right)} + 188.5 \\left(- \\sin{\\left(q_{2} \\right)} \\cos{\\left(q_{1} \\right)} \\cos{\\left(q_{3} \\right)} - \\sin{\\left(q_{3} \\right)} \\cos{\\left(q_{1} \\right)} \\cos{\\left(q_{2} \\right)}\\right) \\sin{\\left(q_{4} \\right)} - 83 \\sin{\\left(q_{2} \\right)} \\sin{\\left(q_{3} \\right)} \\cos{\\left(q_{1} \\right)} + 83 \\cos{\\left(q_{1} \\right)} \\cos{\\left(q_{2} \\right)} \\cos{\\left(q_{3} \\right)} + 83 \\cos{\\left(q_{1} \\right)} \\cos{\\left(q_{2} \\right)}\\\\\\left(- \\left(- \\sin{\\left(q_{1} \\right)} \\sin{\\left(q_{2} \\right)} \\sin{\\left(q_{3} \\right)} + \\sin{\\left(q_{1} \\right)} \\cos{\\left(q_{2} \\right)} \\cos{\\left(q_{3} \\right)}\\right) \\sin{\\left(q_{4} \\right)} + \\left(- \\sin{\\left(q_{1} \\right)} \\sin{\\left(q_{2} \\right)} \\cos{\\left(q_{3} \\right)} - \\sin{\\left(q_{1} \\right)} \\sin{\\left(q_{3} \\right)} \\cos{\\left(q_{2} \\right)}\\right) \\cos{\\left(q_{4} \\right)}\\right) \\cos{\\left(q_{5} \\right)} - \\sin{\\left(q_{5} \\right)} \\cos{\\left(q_{1} \\right)} & - \\left(- \\left(- \\sin{\\left(q_{1} \\right)} \\sin{\\left(q_{2} \\right)} \\sin{\\left(q_{3} \\right)} + \\sin{\\left(q_{1} \\right)} \\cos{\\left(q_{2} \\right)} \\cos{\\left(q_{3} \\right)}\\right) \\sin{\\left(q_{4} \\right)} + \\left(- \\sin{\\left(q_{1} \\right)} \\sin{\\left(q_{2} \\right)} \\cos{\\left(q_{3} \\right)} - \\sin{\\left(q_{1} \\right)} \\sin{\\left(q_{3} \\right)} \\cos{\\left(q_{2} \\right)}\\right) \\cos{\\left(q_{4} \\right)}\\right) \\sin{\\left(q_{5} \\right)} - \\cos{\\left(q_{1} \\right)} \\cos{\\left(q_{5} \\right)} & \\left(- \\sin{\\left(q_{1} \\right)} \\sin{\\left(q_{2} \\right)} \\sin{\\left(q_{3} \\right)} + \\sin{\\left(q_{1} \\right)} \\cos{\\left(q_{2} \\right)} \\cos{\\left(q_{3} \\right)}\\right) \\cos{\\left(q_{4} \\right)} + \\left(- \\sin{\\left(q_{1} \\right)} \\sin{\\left(q_{2} \\right)} \\cos{\\left(q_{3} \\right)} - \\sin{\\left(q_{1} \\right)} \\sin{\\left(q_{3} \\right)} \\cos{\\left(q_{2} \\right)}\\right) \\sin{\\left(q_{4} \\right)} & 188.5 \\left(- \\sin{\\left(q_{1} \\right)} \\sin{\\left(q_{2} \\right)} \\sin{\\left(q_{3} \\right)} + \\sin{\\left(q_{1} \\right)} \\cos{\\left(q_{2} \\right)} \\cos{\\left(q_{3} \\right)}\\right) \\cos{\\left(q_{4} \\right)} + 188.5 \\left(- \\sin{\\left(q_{1} \\right)} \\sin{\\left(q_{2} \\right)} \\cos{\\left(q_{3} \\right)} - \\sin{\\left(q_{1} \\right)} \\sin{\\left(q_{3} \\right)} \\cos{\\left(q_{2} \\right)}\\right) \\sin{\\left(q_{4} \\right)} - 83 \\sin{\\left(q_{1} \\right)} \\sin{\\left(q_{2} \\right)} \\sin{\\left(q_{3} \\right)} + 83 \\sin{\\left(q_{1} \\right)} \\cos{\\left(q_{2} \\right)} \\cos{\\left(q_{3} \\right)} + 83 \\sin{\\left(q_{1} \\right)} \\cos{\\left(q_{2} \\right)}\\\\\\left(\\left(- \\sin{\\left(q_{2} \\right)} \\sin{\\left(q_{3} \\right)} + \\cos{\\left(q_{2} \\right)} \\cos{\\left(q_{3} \\right)}\\right) \\cos{\\left(q_{4} \\right)} - \\left(\\sin{\\left(q_{2} \\right)} \\cos{\\left(q_{3} \\right)} + \\sin{\\left(q_{3} \\right)} \\cos{\\left(q_{2} \\right)}\\right) \\sin{\\left(q_{4} \\right)}\\right) \\cos{\\left(q_{5} \\right)} & - \\left(\\left(- \\sin{\\left(q_{2} \\right)} \\sin{\\left(q_{3} \\right)} + \\cos{\\left(q_{2} \\right)} \\cos{\\left(q_{3} \\right)}\\right) \\cos{\\left(q_{4} \\right)} - \\left(\\sin{\\left(q_{2} \\right)} \\cos{\\left(q_{3} \\right)} + \\sin{\\left(q_{3} \\right)} \\cos{\\left(q_{2} \\right)}\\right) \\sin{\\left(q_{4} \\right)}\\right) \\sin{\\left(q_{5} \\right)} & \\left(- \\sin{\\left(q_{2} \\right)} \\sin{\\left(q_{3} \\right)} + \\cos{\\left(q_{2} \\right)} \\cos{\\left(q_{3} \\right)}\\right) \\sin{\\left(q_{4} \\right)} + \\left(\\sin{\\left(q_{2} \\right)} \\cos{\\left(q_{3} \\right)} + \\sin{\\left(q_{3} \\right)} \\cos{\\left(q_{2} \\right)}\\right) \\cos{\\left(q_{4} \\right)} & 188.5 \\left(- \\sin{\\left(q_{2} \\right)} \\sin{\\left(q_{3} \\right)} + \\cos{\\left(q_{2} \\right)} \\cos{\\left(q_{3} \\right)}\\right) \\sin{\\left(q_{4} \\right)} + 188.5 \\left(\\sin{\\left(q_{2} \\right)} \\cos{\\left(q_{3} \\right)} + \\sin{\\left(q_{3} \\right)} \\cos{\\left(q_{2} \\right)}\\right) \\cos{\\left(q_{4} \\right)} + 83 \\sin{\\left(q_{2} \\right)} \\cos{\\left(q_{3} \\right)} + 83 \\sin{\\left(q_{2} \\right)} + 83 \\sin{\\left(q_{3} \\right)} \\cos{\\left(q_{2} \\right)} + 170.5\\\\0 & 0 & 0 & 1\\end{matrix}\\right]$"
      ],
      "text/plain": [
       "Matrix([\n",
       "[(-(-sin(q2)*sin(q3)*cos(q1) + cos(q1)*cos(q2)*cos(q3))*sin(q4) + (-sin(q2)*cos(q1)*cos(q3) - sin(q3)*cos(q1)*cos(q2))*cos(q4))*cos(q5) + sin(q1)*sin(q5), -(-(-sin(q2)*sin(q3)*cos(q1) + cos(q1)*cos(q2)*cos(q3))*sin(q4) + (-sin(q2)*cos(q1)*cos(q3) - sin(q3)*cos(q1)*cos(q2))*cos(q4))*sin(q5) + sin(q1)*cos(q5), (-sin(q2)*sin(q3)*cos(q1) + cos(q1)*cos(q2)*cos(q3))*cos(q4) + (-sin(q2)*cos(q1)*cos(q3) - sin(q3)*cos(q1)*cos(q2))*sin(q4), 188.5*(-sin(q2)*sin(q3)*cos(q1) + cos(q1)*cos(q2)*cos(q3))*cos(q4) + 188.5*(-sin(q2)*cos(q1)*cos(q3) - sin(q3)*cos(q1)*cos(q2))*sin(q4) - 83*sin(q2)*sin(q3)*cos(q1) + 83*cos(q1)*cos(q2)*cos(q3) + 83*cos(q1)*cos(q2)],\n",
       "[(-(-sin(q1)*sin(q2)*sin(q3) + sin(q1)*cos(q2)*cos(q3))*sin(q4) + (-sin(q1)*sin(q2)*cos(q3) - sin(q1)*sin(q3)*cos(q2))*cos(q4))*cos(q5) - sin(q5)*cos(q1), -(-(-sin(q1)*sin(q2)*sin(q3) + sin(q1)*cos(q2)*cos(q3))*sin(q4) + (-sin(q1)*sin(q2)*cos(q3) - sin(q1)*sin(q3)*cos(q2))*cos(q4))*sin(q5) - cos(q1)*cos(q5), (-sin(q1)*sin(q2)*sin(q3) + sin(q1)*cos(q2)*cos(q3))*cos(q4) + (-sin(q1)*sin(q2)*cos(q3) - sin(q1)*sin(q3)*cos(q2))*sin(q4), 188.5*(-sin(q1)*sin(q2)*sin(q3) + sin(q1)*cos(q2)*cos(q3))*cos(q4) + 188.5*(-sin(q1)*sin(q2)*cos(q3) - sin(q1)*sin(q3)*cos(q2))*sin(q4) - 83*sin(q1)*sin(q2)*sin(q3) + 83*sin(q1)*cos(q2)*cos(q3) + 83*sin(q1)*cos(q2)],\n",
       "[                                                    ((-sin(q2)*sin(q3) + cos(q2)*cos(q3))*cos(q4) - (sin(q2)*cos(q3) + sin(q3)*cos(q2))*sin(q4))*cos(q5),                                                     -((-sin(q2)*sin(q3) + cos(q2)*cos(q3))*cos(q4) - (sin(q2)*cos(q3) + sin(q3)*cos(q2))*sin(q4))*sin(q5),                                  (-sin(q2)*sin(q3) + cos(q2)*cos(q3))*sin(q4) + (sin(q2)*cos(q3) + sin(q3)*cos(q2))*cos(q4),                                                  188.5*(-sin(q2)*sin(q3) + cos(q2)*cos(q3))*sin(q4) + 188.5*(sin(q2)*cos(q3) + sin(q3)*cos(q2))*cos(q4) + 83*sin(q2)*cos(q3) + 83*sin(q2) + 83*sin(q3)*cos(q2) + 170.5],\n",
       "[                                                                                                                                                       0,                                                                                                                                                         0,                                                                                                                           0,                                                                                                                                                                                                                      1]])"
      ]
     },
     "execution_count": 36,
     "metadata": {},
     "output_type": "execute_result"
    }
   ],
   "source": [
    "# H0_4 = np.dot(H0_2,H2_4)\n",
    "# H0_5 = np.dot(H0_4,H4_5)\n",
    "_H0_5 = _H0_1 * _H1_2 * _H2_3 * _H3_4 * _H4_5\n",
    "_H0_5"
   ]
  },
  {
   "cell_type": "code",
   "execution_count": 37,
   "metadata": {},
   "outputs": [
    {
     "data": {
      "text/latex": [
       "$\\displaystyle \\left[\\begin{matrix}0 & 0 & 1 & 354.5\\\\0 & -1 & 0 & 0\\\\1 & 0 & 0 & 170.5\\\\0 & 0 & 0 & 1\\end{matrix}\\right]$"
      ],
      "text/plain": [
       "Matrix([\n",
       "[0,  0, 1, 354.5],\n",
       "[0, -1, 0,     0],\n",
       "[1,  0, 0, 170.5],\n",
       "[0,  0, 0,     1]])"
      ]
     },
     "execution_count": 37,
     "metadata": {},
     "output_type": "execute_result"
    }
   ],
   "source": [
    "_H0_5_subs = _H0_5.subs(q1,0)\n",
    "_H0_5_subs = _H0_5_subs.subs(q2,0)\n",
    "_H0_5_subs = _H0_5_subs.subs(q3,0)\n",
    "_H0_5_subs = _H0_5_subs.subs(q4,0)\n",
    "_H0_5_subs = _H0_5_subs.subs(q5,0)\n",
    "_H0_5_subs"
   ]
  },
  {
   "cell_type": "code",
   "execution_count": 38,
   "metadata": {},
   "outputs": [
    {
     "data": {
      "text/plain": [
       "array([[  0. ,   0. ,   1. , 354.5],\n",
       "       [  0. ,  -1. ,   0. ,   0. ],\n",
       "       [  1. ,   0. ,   0. , 170.5],\n",
       "       [  0. ,   0. ,   0. ,   1. ]])"
      ]
     },
     "execution_count": 38,
     "metadata": {},
     "output_type": "execute_result"
    }
   ],
   "source": [
    "H0_5"
   ]
  },
  {
   "cell_type": "code",
   "execution_count": null,
   "metadata": {},
   "outputs": [],
   "source": []
  }
 ],
 "metadata": {
  "kernelspec": {
   "display_name": "Python 3",
   "language": "python",
   "name": "python3"
  },
  "language_info": {
   "codemirror_mode": {
    "name": "ipython",
    "version": 3
   },
   "file_extension": ".py",
   "mimetype": "text/x-python",
   "name": "python",
   "nbconvert_exporter": "python",
   "pygments_lexer": "ipython3",
   "version": "3.11.9"
  }
 },
 "nbformat": 4,
 "nbformat_minor": 2
}
